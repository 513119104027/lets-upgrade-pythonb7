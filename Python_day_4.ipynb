{
  "nbformat": 4,
  "nbformat_minor": 0,
  "metadata": {
    "colab": {
      "name": "Python day 4.ipynb",
      "provenance": [],
      "authorship_tag": "ABX9TyMofetwgA0LV9nDeRs4x7OA",
      "include_colab_link": true
    },
    "kernelspec": {
      "name": "python3",
      "display_name": "Python 3"
    }
  },
  "cells": [
    {
      "cell_type": "markdown",
      "metadata": {
        "id": "view-in-github",
        "colab_type": "text"
      },
      "source": [
        "<a href=\"https://colab.research.google.com/github/513119104027/lets-upgrade-pythonb7/blob/master/Python_day_4.ipynb\" target=\"_parent\"><img src=\"https://colab.research.google.com/assets/colab-badge.svg\" alt=\"Open In Colab\"/></a>"
      ]
    },
    {
      "cell_type": "code",
      "metadata": {
        "id": "dm1PtNcDCL2G",
        "colab_type": "code",
        "colab": {}
      },
      "source": [
        " num=1042000\n",
        "sum=0\n",
        "temp=num\n",
        "while(num<702648265):\n",
        "    digit=temp%10\n",
        "    sum+=digit^3\n",
        "    temp=temp//10\n",
        "    if(sum==num):\n",
        "       print (\"the first Armstrong no is\",num)\n",
        "       break\n",
        "    else:\n",
        "       print (\"no\")"
      ],
      "execution_count": null,
      "outputs": []
    }
  ]
}